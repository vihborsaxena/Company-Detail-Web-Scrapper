{
 "cells": [
  {
   "cell_type": "code",
   "execution_count": 2,
   "metadata": {},
   "outputs": [],
   "source": [
    "#Import selenium and get browser open\n",
    "from selenium import webdriver\n",
    "from selenium.webdriver.common.keys import Keys\n",
    "import time\n",
    "# Download Chrome driver and paste it in C drive\n",
    "browser = webdriver.Chrome(executable_path=r\"C:\\chromedriver.exe\")\n",
    "browser.get(\"https://connect.data.com/login\") \n",
    "time.sleep(3)\n",
    "\n",
    "#Find id or tag or class for username and password\n",
    "\n",
    "username = browser.find_element_by_id(\"j_username\")\n",
    "password = browser.find_element_by_id(\"j_password\")\n",
    "username.send_keys(\"Create a account on Data.com and put its username here\")\n",
    "password.send_keys(\"Your password for Data.com account\")\n",
    "\n",
    "# Login it\n",
    "login_attempt = browser.find_element_by_xpath(\"//*[@type='submit']\")\n",
    "login_attempt.submit()"
   ]
  },
  {
   "cell_type": "code",
   "execution_count": 3,
   "metadata": {},
   "outputs": [
    {
     "name": "stdout",
     "output_type": "stream",
     "text": [
      "wipro\n"
     ]
    }
   ],
   "source": [
    "keyword = str(input())"
   ]
  },
  {
   "cell_type": "code",
   "execution_count": 4,
   "metadata": {},
   "outputs": [],
   "source": [
    "# Access the search bar\n",
    "browser.get(\"https://connect.data.com/search#p%3Dsearchresult%3B%3Bss%3Dsingleboxsearch%3B%3Bq%3D%7B%22freeText%22%3A%22\"+str(keyword)+\"%22%7D\")"
   ]
  },
  {
   "cell_type": "code",
   "execution_count": 5,
   "metadata": {},
   "outputs": [],
   "source": [
    "import time\n",
    "time.sleep(5)\n",
    "browser.find_element_by_xpath('//a[@class=\"break-word companyName\"]').click()"
   ]
  },
  {
   "cell_type": "code",
   "execution_count": 6,
   "metadata": {},
   "outputs": [],
   "source": [
    "for a in browser.find_elements_by_xpath('//td[contains(@class,\"company-info-data\")]/a')[:1]:\n",
    "    website=(a.get_attribute('href'))"
   ]
  },
  {
   "cell_type": "code",
   "execution_count": 7,
   "metadata": {},
   "outputs": [],
   "source": [
    "companys_info=browser.find_elements_by_xpath(\"//tr/td\")\n",
    "info = [x.text for x in companys_info]"
   ]
  },
  {
   "cell_type": "code",
   "execution_count": 8,
   "metadata": {},
   "outputs": [
    {
     "data": {
      "text/markdown": [
       "**WEBSITE- **http://www.wipro.com/"
      ],
      "text/plain": [
       "<IPython.core.display.Markdown object>"
      ]
     },
     "metadata": {},
     "output_type": "display_data"
    },
    {
     "name": "stdout",
     "output_type": "stream",
     "text": [
      "\n"
     ]
    },
    {
     "data": {
      "text/markdown": [
       "**Head Quarter - **Sarjapur Road Dodda Kannali\n",
       "Bangalore, KA 560035\n",
       "India  map"
      ],
      "text/plain": [
       "<IPython.core.display.Markdown object>"
      ]
     },
     "metadata": {},
     "output_type": "display_data"
    },
    {
     "name": "stdout",
     "output_type": "stream",
     "text": [
      "\n"
     ]
    },
    {
     "data": {
      "text/markdown": [
       "**Phone - **+91.8028440011"
      ],
      "text/plain": [
       "<IPython.core.display.Markdown object>"
      ]
     },
     "metadata": {},
     "output_type": "display_data"
    },
    {
     "name": "stdout",
     "output_type": "stream",
     "text": [
      "\n"
     ]
    },
    {
     "data": {
      "text/markdown": [
       "**Industries - **Business Services, Management Consulting\n",
       "Computers & Electronics, IT and Network Services and Support\n",
       "Business Services, Data and Records Management"
      ],
      "text/plain": [
       "<IPython.core.display.Markdown object>"
      ]
     },
     "metadata": {},
     "output_type": "display_data"
    },
    {
     "name": "stdout",
     "output_type": "stream",
     "text": [
      "\n"
     ]
    },
    {
     "data": {
      "text/markdown": [
       "**Employee - **> 100K"
      ],
      "text/plain": [
       "<IPython.core.display.Markdown object>"
      ]
     },
     "metadata": {},
     "output_type": "display_data"
    },
    {
     "name": "stdout",
     "output_type": "stream",
     "text": [
      "\n"
     ]
    },
    {
     "data": {
      "text/markdown": [
       "**Revenue - **> $1B"
      ],
      "text/plain": [
       "<IPython.core.display.Markdown object>"
      ]
     },
     "metadata": {},
     "output_type": "display_data"
    },
    {
     "name": "stdout",
     "output_type": "stream",
     "text": [
      "\n"
     ]
    },
    {
     "data": {
      "text/markdown": [
       "**Ownership - **Publicly Traded - NYSE : WIT"
      ],
      "text/plain": [
       "<IPython.core.display.Markdown object>"
      ]
     },
     "metadata": {},
     "output_type": "display_data"
    },
    {
     "name": "stdout",
     "output_type": "stream",
     "text": [
      "\n"
     ]
    },
    {
     "data": {
      "text/markdown": [
       "**Level 1 employees - **111"
      ],
      "text/plain": [
       "<IPython.core.display.Markdown object>"
      ]
     },
     "metadata": {},
     "output_type": "display_data"
    },
    {
     "name": "stdout",
     "output_type": "stream",
     "text": [
      "\n",
      "https://connect.data.com/search#p%3Dsearchresult%3B%3Bt%3Dcontacts%3B%3Bss%3Dquerysearch%3B%3Bq%3D%7B%22filters%22%3A%7B%22levels%22%3A%5B%2210%22%5D%2C%22companies%22%3A%5B%22www.wipro.com%22%5D%7D%7D%3B%3Bcm%3DWipro%20Limited\n",
      "\n"
     ]
    },
    {
     "data": {
      "text/markdown": [
       "**Level 2 employees - **153"
      ],
      "text/plain": [
       "<IPython.core.display.Markdown object>"
      ]
     },
     "metadata": {},
     "output_type": "display_data"
    },
    {
     "name": "stdout",
     "output_type": "stream",
     "text": [
      "\n",
      "https://connect.data.com/search#p%3Dsearchresult%3B%3Bt%3Dcontacts%3B%3Bss%3Dquerysearch%3B%3Bq%3D%7B%22filters%22%3A%7B%22levels%22%3A%5B%2220%22%5D%2C%22companies%22%3A%5B%22www.wipro.com%22%5D%7D%7D%3B%3Bcm%3DWipro%20Limited\n",
      "\n"
     ]
    },
    {
     "data": {
      "text/markdown": [
       "**Level 3 employees - **176"
      ],
      "text/plain": [
       "<IPython.core.display.Markdown object>"
      ]
     },
     "metadata": {},
     "output_type": "display_data"
    },
    {
     "name": "stdout",
     "output_type": "stream",
     "text": [
      "\n",
      "https://connect.data.com/search#p%3Dsearchresult%3B%3Bt%3Dcontacts%3B%3Bss%3Dquerysearch%3B%3Bq%3D%7B%22filters%22%3A%7B%22levels%22%3A%5B%2230%22%5D%2C%22companies%22%3A%5B%22www.wipro.com%22%5D%7D%7D%3B%3Bcm%3DWipro%20Limited\n",
      "\n",
      "Address                                                City             State    Country        Pin         Phone            Contact\n",
      "-----------------------------------------------------  ---------------  -------  -------------  ----------  ---------------  ---------\n",
      "Sarjapur Road Dodda Kannali                            Bangalore        KA       India          560035      +91.8028440011   901\n",
      "No: 29, Corporate office, Doddakannelli Sarjapur Road  Bangalore        KA       India          560048      +91.8028440011   1,821\n",
      "1300 Crittenden Ln                                     Mountain View    CA       United States  94043-1359  +1.650.316.3555  639\n",
      "Sarjapur Road Dodda Kannali                            Bangalore South  KA       India          560035                       289\n",
      "425 National Ave                                       Mountain View    CA       United States  94043-2219  +1.650.316.3555  132\n",
      "600 March Road                                         Billerica        MA       United States  01821       +1.613.784.6626  72\n",
      "Sarjapur Road Dodda Kannali                            Bangalore        KA       India          560035                       59\n",
      "2 Tower Center Blvd Ste 2200                           East Brunswick   NJ       United States  08816-1100  +1.732.509.1500  58\n",
      "1 St Main Road, Sr Nagar, Bangalore Shanti Nagar       Bangalore South  KA       India          560027                       37\n",
      "Dodda Kannali Sarjapur Dodda Kannali                   Bangalore        KA       India          560035                       28\n"
     ]
    }
   ],
   "source": [
    "from IPython.display import Markdown, display\n",
    "def printmd(string):\n",
    "    display(Markdown(string))\n",
    "\n",
    "printmd(\"**WEBSITE- **\"+str(website))\n",
    "print()\n",
    "printmd(\"**Head Quarter - **\"+info[3])\n",
    "print()\n",
    "printmd(\"**Phone - **\"+info[5])\n",
    "print()\n",
    "printmd(\"**Industries - **\"+info[7])\n",
    "print()\n",
    "printmd(\"**Employee - **\"+info[9])\n",
    "print()\n",
    "printmd(\"**Revenue - **\"+info[11])\n",
    "print()\n",
    "printmd(\"**Ownership - **\"+info[13])\n",
    "print()\n",
    "printmd(\"**Level 1 employees - **\"+info[17])\n",
    "print()\n",
    "for b in browser.find_elements_by_xpath('//td[contains(@class,\"company-counts-value\")]/a')[:1]:\n",
    "    inko=(b.get_attribute('href'))\n",
    "print(inko)\n",
    "print()\n",
    "printmd(\"**Level 2 employees - **\"+info[19])\n",
    "print()\n",
    "for b in browser.find_elements_by_xpath('//td[contains(@class,\"company-counts-value\")]/a')[:2]:\n",
    "    inko=(b.get_attribute('href'))\n",
    "print(inko)\n",
    "print()\n",
    "printmd(\"**Level 3 employees - **\"+info[21])\n",
    "print()\n",
    "for b in browser.find_elements_by_xpath('//td[contains(@class,\"company-counts-value\")]/a')[:3]:\n",
    "    inko=(b.get_attribute('href'))\n",
    "print(inko)\n",
    "print()\n",
    "browser.find_element_by_xpath('//li[@class=\"ui-state-default ui-corner-top\"]').click()\n",
    "import time\n",
    "time.sleep(5)\n",
    "listoflists = []\n",
    "for n in range(1,11):\n",
    "    asd = browser.find_elements_by_xpath(\"//*[@id='locationsInfo']/div[3]/div/div/table/tbody/tr[\"+str(n)+\"]/td\")\n",
    "    listoflists.append([x.text for x in asd])\n",
    "from tabulate import tabulate\n",
    "print(tabulate(listoflists, headers=['Address', 'City', 'State', 'Country', 'Pin', 'Phone', 'Contact']))\n"
   ]
  },
  {
   "cell_type": "code",
   "execution_count": 9,
   "metadata": {},
   "outputs": [],
   "source": [
    "#Import selenium and get browser open\n",
    "from selenium import webdriver\n",
    "from selenium.webdriver.common.keys import Keys\n",
    "import time\n",
    "browser.execute_script(\"window.open('https://www.news.google.com')\")\n",
    "window_after = browser.window_handles[1]\n",
    "browser.switch_to_window(window_after)\n",
    "time.sleep(5)\n",
    "element = browser.find_element_by_xpath(\"//*[@id='gb']/div[2]/div[2]/div/form/div/div/div/div/div/div[1]/input[2]\")\n",
    "element.send_keys(str(keyword))\n",
    "element.click()\n",
    "from selenium.webdriver.common.keys import Keys\n",
    "element.send_keys(Keys.ENTER)"
   ]
  },
  {
   "cell_type": "code",
   "execution_count": 10,
   "metadata": {},
   "outputs": [
    {
     "name": "stdout",
     "output_type": "stream",
     "text": [
      "['Tariq Premji: Everything you need to know about this new Wipro board member']\n",
      "['Wipro’s offshore staff get high single-digit pay hike']\n",
      "['Second sonrise at Wipro as Tariq Premji joins board']\n",
      "['Wipro Ltd. | stock & share price update with analysis | 2018-06-11']\n",
      "['From Infosys to Wipro, IT firms eye acquisitions to add to adtech skills']\n",
      "['Indian ADRs: Tata Motors, Wipro gain; ICICI Bank down']\n",
      "['Wipro localising more in US: Rishad Premji']\n",
      "['Indian ADRs: Tata Motors up 4%; ICICI Bank, Wipro gain 2%']\n",
      "['Tariq Premji joins board of Wipro Ent']\n",
      "['Indian ADRs: Tata Motors, HDFC Bank gain; Wipro down']\n"
     ]
    }
   ],
   "source": [
    "import time\n",
    "time.sleep(5)\n",
    "for i in range(1,11):\n",
    "    gnews = browser.find_elements_by_xpath(\"//*[@id='yDmH0d']/c-wiz[2]/div/div[1]/div/main/c-wiz/div[1]/div[\"+str(i)+\"]/div/article/div[1]/div/a/span\")\n",
    "    titles = [x.text for x in gnews]\n",
    "    print(titles)"
   ]
  },
  {
   "cell_type": "code",
   "execution_count": 11,
   "metadata": {},
   "outputs": [
    {
     "name": "stdout",
     "output_type": "stream",
     "text": [
      "1. https://news.google.com/articles/CBMicmh0dHBzOi8vd3d3Lm1vbmV5Y29udHJvbC5jb20vbmV3cy9idXNpbmVzcy9zdG9ja3MvaW5kaWFuLWFkcnMtdGF0YS1tb3RvcnMtaGRmYy1iYW5rLWdhaW4td2lwcm8tZG93bi0yLTI1ODM3MDMuaHRtbNIBuQFodHRwczovL3d3dy1tb25leWNvbnRyb2wtY29tLmNkbi5hbXBwcm9qZWN0Lm9yZy92L3Mvd3d3Lm1vbmV5Y29udHJvbC5jb20vbmV3cy9idXNpbmVzcy9zdG9ja3MvaW5kaWFuLWFkcnMtdGF0YS1tb3RvcnMtaGRmYy1iYW5rLWdhaW4td2lwcm8tZG93bi0yLTI1ODM3MDMuaHRtbC9hbXA_YW1wX2pzX3Y9MC4xI3dlYnZpZXc9MQ\n",
      "\n",
      "2. https://news.google.com/articles/CBMicmh0dHBzOi8vd3d3Lm1vbmV5Y29udHJvbC5jb20vbmV3cy9idXNpbmVzcy9zdG9ja3MvaW5kaWFuLWFkcnMtdGF0YS1tb3RvcnMtaGRmYy1iYW5rLWdhaW4td2lwcm8tZG93bi0yLTI1ODM3MDMuaHRtbNIBuQFodHRwczovL3d3dy1tb25leWNvbnRyb2wtY29tLmNkbi5hbXBwcm9qZWN0Lm9yZy92L3Mvd3d3Lm1vbmV5Y29udHJvbC5jb20vbmV3cy9idXNpbmVzcy9zdG9ja3MvaW5kaWFuLWFkcnMtdGF0YS1tb3RvcnMtaGRmYy1iYW5rLWdhaW4td2lwcm8tZG93bi0yLTI1ODM3MDMuaHRtbC9hbXA_YW1wX2pzX3Y9MC4xI3dlYnZpZXc9MQ\n",
      "\n",
      "3. https://news.google.com/articles/CBMicmh0dHBzOi8vd3d3Lm1vbmV5Y29udHJvbC5jb20vbmV3cy9idXNpbmVzcy9zdG9ja3MvaW5kaWFuLWFkcnMtdGF0YS1tb3RvcnMtaGRmYy1iYW5rLWdhaW4td2lwcm8tZG93bi0yLTI1ODM3MDMuaHRtbNIBuQFodHRwczovL3d3dy1tb25leWNvbnRyb2wtY29tLmNkbi5hbXBwcm9qZWN0Lm9yZy92L3Mvd3d3Lm1vbmV5Y29udHJvbC5jb20vbmV3cy9idXNpbmVzcy9zdG9ja3MvaW5kaWFuLWFkcnMtdGF0YS1tb3RvcnMtaGRmYy1iYW5rLWdhaW4td2lwcm8tZG93bi0yLTI1ODM3MDMuaHRtbC9hbXA_YW1wX2pzX3Y9MC4xI3dlYnZpZXc9MQ\n",
      "\n",
      "4. https://news.google.com/articles/CBMicmh0dHBzOi8vd3d3Lm1vbmV5Y29udHJvbC5jb20vbmV3cy9idXNpbmVzcy9zdG9ja3MvaW5kaWFuLWFkcnMtdGF0YS1tb3RvcnMtaGRmYy1iYW5rLWdhaW4td2lwcm8tZG93bi0yLTI1ODM3MDMuaHRtbNIBuQFodHRwczovL3d3dy1tb25leWNvbnRyb2wtY29tLmNkbi5hbXBwcm9qZWN0Lm9yZy92L3Mvd3d3Lm1vbmV5Y29udHJvbC5jb20vbmV3cy9idXNpbmVzcy9zdG9ja3MvaW5kaWFuLWFkcnMtdGF0YS1tb3RvcnMtaGRmYy1iYW5rLWdhaW4td2lwcm8tZG93bi0yLTI1ODM3MDMuaHRtbC9hbXA_YW1wX2pzX3Y9MC4xI3dlYnZpZXc9MQ\n",
      "\n",
      "5. https://news.google.com/articles/CBMicmh0dHBzOi8vd3d3Lm1vbmV5Y29udHJvbC5jb20vbmV3cy9idXNpbmVzcy9zdG9ja3MvaW5kaWFuLWFkcnMtdGF0YS1tb3RvcnMtaGRmYy1iYW5rLWdhaW4td2lwcm8tZG93bi0yLTI1ODM3MDMuaHRtbNIBuQFodHRwczovL3d3dy1tb25leWNvbnRyb2wtY29tLmNkbi5hbXBwcm9qZWN0Lm9yZy92L3Mvd3d3Lm1vbmV5Y29udHJvbC5jb20vbmV3cy9idXNpbmVzcy9zdG9ja3MvaW5kaWFuLWFkcnMtdGF0YS1tb3RvcnMtaGRmYy1iYW5rLWdhaW4td2lwcm8tZG93bi0yLTI1ODM3MDMuaHRtbC9hbXA_YW1wX2pzX3Y9MC4xI3dlYnZpZXc9MQ\n",
      "\n",
      "6. https://news.google.com/articles/CBMicmh0dHBzOi8vd3d3Lm1vbmV5Y29udHJvbC5jb20vbmV3cy9idXNpbmVzcy9zdG9ja3MvaW5kaWFuLWFkcnMtdGF0YS1tb3RvcnMtaGRmYy1iYW5rLWdhaW4td2lwcm8tZG93bi0yLTI1ODM3MDMuaHRtbNIBuQFodHRwczovL3d3dy1tb25leWNvbnRyb2wtY29tLmNkbi5hbXBwcm9qZWN0Lm9yZy92L3Mvd3d3Lm1vbmV5Y29udHJvbC5jb20vbmV3cy9idXNpbmVzcy9zdG9ja3MvaW5kaWFuLWFkcnMtdGF0YS1tb3RvcnMtaGRmYy1iYW5rLWdhaW4td2lwcm8tZG93bi0yLTI1ODM3MDMuaHRtbC9hbXA_YW1wX2pzX3Y9MC4xI3dlYnZpZXc9MQ\n",
      "\n",
      "7. https://news.google.com/articles/CBMicmh0dHBzOi8vd3d3Lm1vbmV5Y29udHJvbC5jb20vbmV3cy9idXNpbmVzcy9zdG9ja3MvaW5kaWFuLWFkcnMtdGF0YS1tb3RvcnMtaGRmYy1iYW5rLWdhaW4td2lwcm8tZG93bi0yLTI1ODM3MDMuaHRtbNIBuQFodHRwczovL3d3dy1tb25leWNvbnRyb2wtY29tLmNkbi5hbXBwcm9qZWN0Lm9yZy92L3Mvd3d3Lm1vbmV5Y29udHJvbC5jb20vbmV3cy9idXNpbmVzcy9zdG9ja3MvaW5kaWFuLWFkcnMtdGF0YS1tb3RvcnMtaGRmYy1iYW5rLWdhaW4td2lwcm8tZG93bi0yLTI1ODM3MDMuaHRtbC9hbXA_YW1wX2pzX3Y9MC4xI3dlYnZpZXc9MQ\n",
      "\n",
      "8. https://news.google.com/articles/CBMicmh0dHBzOi8vd3d3Lm1vbmV5Y29udHJvbC5jb20vbmV3cy9idXNpbmVzcy9zdG9ja3MvaW5kaWFuLWFkcnMtdGF0YS1tb3RvcnMtaGRmYy1iYW5rLWdhaW4td2lwcm8tZG93bi0yLTI1ODM3MDMuaHRtbNIBuQFodHRwczovL3d3dy1tb25leWNvbnRyb2wtY29tLmNkbi5hbXBwcm9qZWN0Lm9yZy92L3Mvd3d3Lm1vbmV5Y29udHJvbC5jb20vbmV3cy9idXNpbmVzcy9zdG9ja3MvaW5kaWFuLWFkcnMtdGF0YS1tb3RvcnMtaGRmYy1iYW5rLWdhaW4td2lwcm8tZG93bi0yLTI1ODM3MDMuaHRtbC9hbXA_YW1wX2pzX3Y9MC4xI3dlYnZpZXc9MQ\n",
      "\n",
      "9. https://news.google.com/articles/CBMicmh0dHBzOi8vd3d3Lm1vbmV5Y29udHJvbC5jb20vbmV3cy9idXNpbmVzcy9zdG9ja3MvaW5kaWFuLWFkcnMtdGF0YS1tb3RvcnMtaGRmYy1iYW5rLWdhaW4td2lwcm8tZG93bi0yLTI1ODM3MDMuaHRtbNIBuQFodHRwczovL3d3dy1tb25leWNvbnRyb2wtY29tLmNkbi5hbXBwcm9qZWN0Lm9yZy92L3Mvd3d3Lm1vbmV5Y29udHJvbC5jb20vbmV3cy9idXNpbmVzcy9zdG9ja3MvaW5kaWFuLWFkcnMtdGF0YS1tb3RvcnMtaGRmYy1iYW5rLWdhaW4td2lwcm8tZG93bi0yLTI1ODM3MDMuaHRtbC9hbXA_YW1wX2pzX3Y9MC4xI3dlYnZpZXc9MQ\n",
      "\n",
      "10. https://news.google.com/articles/CBMicmh0dHBzOi8vd3d3Lm1vbmV5Y29udHJvbC5jb20vbmV3cy9idXNpbmVzcy9zdG9ja3MvaW5kaWFuLWFkcnMtdGF0YS1tb3RvcnMtaGRmYy1iYW5rLWdhaW4td2lwcm8tZG93bi0yLTI1ODM3MDMuaHRtbNIBuQFodHRwczovL3d3dy1tb25leWNvbnRyb2wtY29tLmNkbi5hbXBwcm9qZWN0Lm9yZy92L3Mvd3d3Lm1vbmV5Y29udHJvbC5jb20vbmV3cy9idXNpbmVzcy9zdG9ja3MvaW5kaWFuLWFkcnMtdGF0YS1tb3RvcnMtaGRmYy1iYW5rLWdhaW4td2lwcm8tZG93bi0yLTI1ODM3MDMuaHRtbC9hbXA_YW1wX2pzX3Y9MC4xI3dlYnZpZXc9MQ\n",
      "\n"
     ]
    }
   ],
   "source": [
    "for j in range(1,11):\n",
    "    for b in browser.find_elements_by_xpath('//*[@id=\"yDmH0d\"]/c-wiz[2]/div/div[1]/div/main/c-wiz/div[1]/div['+str(i)+']/div/article/div[1]/div/a'):\n",
    "        inko=(b.get_attribute('href'))\n",
    "        print(str(j)+\". \"+inko)\n",
    "        print()"
   ]
  },
  {
   "cell_type": "code",
   "execution_count": null,
   "metadata": {},
   "outputs": [],
   "source": []
  },
  {
   "cell_type": "code",
   "execution_count": null,
   "metadata": {},
   "outputs": [],
   "source": []
  }
 ],
 "metadata": {
  "kernelspec": {
   "display_name": "Python 3",
   "language": "python",
   "name": "python3"
  },
  "language_info": {
   "codemirror_mode": {
    "name": "ipython",
    "version": 3
   },
   "file_extension": ".py",
   "mimetype": "text/x-python",
   "name": "python",
   "nbconvert_exporter": "python",
   "pygments_lexer": "ipython3",
   "version": "3.5.0"
  }
 },
 "nbformat": 4,
 "nbformat_minor": 2
}
